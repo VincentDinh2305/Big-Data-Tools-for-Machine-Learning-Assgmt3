{
 "cells": [
  {
   "cell_type": "code",
   "execution_count": 1,
   "metadata": {},
   "outputs": [],
   "source": [
    "# Dinh Hoang Viet Phuong - 301123263"
   ]
  },
  {
   "cell_type": "code",
   "execution_count": 2,
   "metadata": {},
   "outputs": [
    {
     "name": "stdout",
     "output_type": "stream",
     "text": [
      "  InvoiceNo StockCode                       Description  Quantity  \\\n",
      "0    540498     21485  RETROSPOT HEART HOT WATER BOTTLE         1   \n",
      "1    540498     22112        CHOCOLATE HOT WATER BOTTLE         1   \n",
      "2    540498    17091A           LAVENDER INCENSE IN TIN         6   \n",
      "3    540498     84813     SET OF 4 DIAMOND NAPKIN RINGS         6   \n",
      "4    540498     22795      SWEETHEART RECIPE BOOK STAND         3   \n",
      "\n",
      "           InvoiceDate  UnitPrice  CustomerID         Country  \n",
      "0  2011-01-09 10:06:00       4.95     17243.0  United Kingdom  \n",
      "1  2011-01-09 10:06:00       4.95     17243.0  United Kingdom  \n",
      "2  2011-01-09 10:06:00       1.25     17243.0  United Kingdom  \n",
      "3  2011-01-09 10:06:00      12.75     17243.0  United Kingdom  \n",
      "4  2011-01-09 10:06:00       6.75     17243.0  United Kingdom  \n"
     ]
    }
   ],
   "source": [
    "import pandas as pd\n",
    "\n",
    "# Path to the data\n",
    "path = \"/home/centos/data/retail-data/by-day/\"\n",
    "\n",
    "# Load 2 days of data\n",
    "df_09 = pd.read_csv(path + \"2011-01-09.csv\", infer_datetime_format=True)\n",
    "df_10 = pd.read_csv(path + \"2011-01-10.csv\", infer_datetime_format=True)\n",
    "\n",
    "# Combine the two dataframes\n",
    "df_phuong = pd.concat([df_09, df_10], ignore_index=True)\n",
    "\n",
    "print(df_phuong.head())"
   ]
  },
  {
   "cell_type": "code",
   "execution_count": 4,
   "metadata": {},
   "outputs": [
    {
     "name": "stdout",
     "output_type": "stream",
     "text": [
      "Time taken to load the data: 2.8408827781677246 seconds\n",
      "+---------+---------+-----------------------------------+--------+-------------------+---------+----------+--------------+\n",
      "|_c0      |_c1      |_c2                                |_c3     |_c4                |_c5      |_c6       |_c7           |\n",
      "+---------+---------+-----------------------------------+--------+-------------------+---------+----------+--------------+\n",
      "|InvoiceNo|StockCode|Description                        |Quantity|InvoiceDate        |UnitPrice|CustomerID|Country       |\n",
      "|540549   |21587    |null                               |-53     |2011-01-10 09:07:00|0.0      |null      |United Kingdom|\n",
      "|540550   |22962    |JAM JAR WITH PINK LID              |12      |2011-01-10 09:11:00|0.85     |12539.0   |Spain         |\n",
      "|540550   |22961    |JAM MAKING SET PRINTED             |12      |2011-01-10 09:11:00|1.45     |12539.0   |Spain         |\n",
      "|540550   |22960    |JAM MAKING SET WITH JARS           |6       |2011-01-10 09:11:00|4.25     |12539.0   |Spain         |\n",
      "|540550   |22430    |ENAMEL WATERING CAN CREAM          |4       |2011-01-10 09:11:00|4.95     |12539.0   |Spain         |\n",
      "|540550   |21547    |CERAMIC BIRDHOUSE CRESTED TIT SMALL|6       |2011-01-10 09:11:00|2.95     |12539.0   |Spain         |\n",
      "|540550   |21944    |KITTENS DESIGN FLANNEL             |12      |2011-01-10 09:11:00|0.85     |12539.0   |Spain         |\n",
      "|540550   |21121    |SET/10 RED POLKADOT PARTY CANDLES  |24      |2011-01-10 09:11:00|1.25     |12539.0   |Spain         |\n",
      "|540550   |21123    |SET/10 IVORY POLKADOT PARTY CANDLES|24      |2011-01-10 09:11:00|1.25     |12539.0   |Spain         |\n",
      "|540550   |21122    |SET/10 PINK POLKADOT PARTY CANDLES |24      |2011-01-10 09:11:00|1.25     |12539.0   |Spain         |\n",
      "|540550   |21126    |SET OF 6 GIRLS CELEBRATION CANDLES |12      |2011-01-10 09:11:00|1.25     |12539.0   |Spain         |\n",
      "|540550   |21125    |SET 6 FOOTBALL CELEBRATION CANDLES |12      |2011-01-10 09:11:00|1.25     |12539.0   |Spain         |\n",
      "|540550   |62094B   |TURQ ICE CREAM BUM BAG             |6       |2011-01-10 09:11:00|2.55     |12539.0   |Spain         |\n",
      "|540550   |21929    |JUMBO BAG PINK VINTAGE PAISLEY     |10      |2011-01-10 09:11:00|1.95     |12539.0   |Spain         |\n",
      "|540550   |47594B   |SCOTTIES DESIGN WASHBAG            |6       |2011-01-10 09:11:00|1.95     |12539.0   |Spain         |\n",
      "|540550   |84912B   |GREEN ROSE WASHBAG                 |4       |2011-01-10 09:11:00|3.75     |12539.0   |Spain         |\n",
      "|540550   |84032A   |CHARLIE+LOLA PINK HOT WATER BOTTLE |6       |2011-01-10 09:11:00|2.95     |12539.0   |Spain         |\n",
      "|540550   |22111    |SCOTTIE DOG HOT WATER BOTTLE       |3       |2011-01-10 09:11:00|4.95     |12539.0   |Spain         |\n",
      "|540550   |22690    |DOORMAT HOME SWEET HOME BLUE       |2       |2011-01-10 09:11:00|7.95     |12539.0   |Spain         |\n",
      "+---------+---------+-----------------------------------+--------+-------------------+---------+----------+--------------+\n",
      "only showing top 20 rows\n",
      "\n"
     ]
    }
   ],
   "source": [
    "from pyspark.sql import SparkSession\n",
    "import time\n",
    "\n",
    "spark = SparkSession.builder.appName(\"retailDataAnalysis\").getOrCreate()\n",
    "\n",
    "start_time = time.time()\n",
    "\n",
    "df_phuong = spark.read.option(\"inferSchema\", \"true\").csv([\"/home/centos/data/retail-data/by-day/2011-01-09.csv\", \n",
    "                                                          \"/home/centos/data/retail-data/by-day/2011-01-10.csv\"])\n",
    "\n",
    "end_time = time.time()\n",
    "\n",
    "loading_time = end_time - start_time\n",
    "print(f\"Time taken to load the data: {loading_time} seconds\")\n",
    "\n",
    "df_phuong.show(truncate=False)"
   ]
  },
  {
   "cell_type": "code",
   "execution_count": 5,
   "metadata": {},
   "outputs": [
    {
     "name": "stdout",
     "output_type": "stream",
     "text": [
      "+------+-----+--------------------+---+-------------------+-----+-------+--------------+\n",
      "|   _c0|  _c1|                 _c2|_c3|                _c4|  _c5|    _c6|           _c7|\n",
      "+------+-----+--------------------+---+-------------------+-----+-------+--------------+\n",
      "|540550|22785|SQUARECUSHION COV...|  2|2011-01-10 09:11:00| 6.75|12539.0|         Spain|\n",
      "|540551|22720|SET OF 3 CAKE TIN...|  1|2011-01-10 09:43:00|11.02|   null|United Kingdom|\n",
      "|540551|22722|SET OF 6 SPICE TI...|  2|2011-01-10 09:43:00| 8.47|   null|United Kingdom|\n",
      "|540551|22723|SET OF 6 HERB TIN...|  1|2011-01-10 09:43:00| 8.47|   null|United Kingdom|\n",
      "|540551|22749|FELTCRAFT PRINCES...|  1|2011-01-10 09:43:00| 7.62|   null|United Kingdom|\n",
      "|540551|22767|TRIPLE PHOTO FRAM...|  1|2011-01-10 09:43:00|20.38|   null|United Kingdom|\n",
      "|540551|22795|SWEETHEART RECIPE...|  1|2011-01-10 09:43:00|13.57|   null|United Kingdom|\n",
      "|540556|22781|GUMBALL MAGAZINE ...|  4|2011-01-10 09:58:00| 7.65|   null|        Israel|\n",
      "|540640|22762|CUPBOARD 3 DRAWER...|  1|2011-01-10 12:36:00|14.95|14527.0|United Kingdom|\n",
      "|540641|22794|SWEETHEART WIRE M...|  2|2011-01-10 13:20:00| 7.95|16497.0|United Kingdom|\n",
      "|540642|22725|ALARM CLOCK BAKEL...|  8|2011-01-10 13:22:00| 3.75|12681.0|        France|\n",
      "|540642|22726|ALARM CLOCK BAKEL...|  8|2011-01-10 13:22:00| 3.75|12681.0|        France|\n",
      "|540642|22727|ALARM CLOCK BAKEL...|  8|2011-01-10 13:22:00| 3.75|12681.0|        France|\n",
      "|540642|22728|ALARM CLOCK BAKEL...|  8|2011-01-10 13:22:00| 3.75|12681.0|        France|\n",
      "|540642|22729|ALARM CLOCK BAKEL...|  8|2011-01-10 13:22:00| 3.75|12681.0|        France|\n",
      "|540642|22730|ALARM CLOCK BAKEL...|  8|2011-01-10 13:22:00| 3.75|12681.0|        France|\n",
      "|540642|22781|GUMBALL MAGAZINE ...|  6|2011-01-10 13:22:00| 7.65|12681.0|        France|\n",
      "|540646|22720|SET OF 3 CAKE TIN...|  1|2011-01-10 14:32:00|11.02|   null|United Kingdom|\n",
      "|540646|22730|ALARM CLOCK BAKEL...|  1|2011-01-10 14:32:00| 7.62|   null|United Kingdom|\n",
      "|540646|22778|  GLASS CLOCHE SMALL|  1|2011-01-10 14:32:00| 8.47|   null|United Kingdom|\n",
      "+------+-----+--------------------+---+-------------------+-----+-------+--------------+\n",
      "only showing top 20 rows\n",
      "\n"
     ]
    }
   ],
   "source": [
    "from pyspark.sql import functions as F\n",
    "\n",
    "# Filter the dataframe\n",
    "filtered_df = df_phuong.filter(\n",
    "    (df_phuong[\"_c1\"].startswith(\"227\")) &\n",
    "    ((df_phuong[\"_c2\"].contains(\"ALARM CLOCK\")) | (df_phuong[\"_c5\"] > 5))\n",
    ")\n",
    "\n",
    "# Show the filtered transactions\n",
    "filtered_df.show()"
   ]
  },
  {
   "cell_type": "code",
   "execution_count": 6,
   "metadata": {},
   "outputs": [
    {
     "name": "stdout",
     "output_type": "stream",
     "text": [
      "+------+-----+--------------------+---+-------------------+-----+-------+--------------+\n",
      "|   _c0|  _c1|                 _c2|_c3|                _c4|  _c5|    _c6|           _c7|\n",
      "+------+-----+--------------------+---+-------------------+-----+-------+--------------+\n",
      "|540550|22785|SQUARECUSHION COV...|  2|2011-01-10 09:11:00| 6.75|12539.0|         Spain|\n",
      "|540551|22720|SET OF 3 CAKE TIN...|  1|2011-01-10 09:43:00|11.02|   null|United Kingdom|\n",
      "|540551|22722|SET OF 6 SPICE TI...|  2|2011-01-10 09:43:00| 8.47|   null|United Kingdom|\n",
      "|540551|22723|SET OF 6 HERB TIN...|  1|2011-01-10 09:43:00| 8.47|   null|United Kingdom|\n",
      "|540551|22749|FELTCRAFT PRINCES...|  1|2011-01-10 09:43:00| 7.62|   null|United Kingdom|\n",
      "|540551|22767|TRIPLE PHOTO FRAM...|  1|2011-01-10 09:43:00|20.38|   null|United Kingdom|\n",
      "|540551|22795|SWEETHEART RECIPE...|  1|2011-01-10 09:43:00|13.57|   null|United Kingdom|\n",
      "|540556|22781|GUMBALL MAGAZINE ...|  4|2011-01-10 09:58:00| 7.65|   null|        Israel|\n",
      "|540640|22762|CUPBOARD 3 DRAWER...|  1|2011-01-10 12:36:00|14.95|14527.0|United Kingdom|\n",
      "|540641|22794|SWEETHEART WIRE M...|  2|2011-01-10 13:20:00| 7.95|16497.0|United Kingdom|\n",
      "|540642|22725|ALARM CLOCK BAKEL...|  8|2011-01-10 13:22:00| 3.75|12681.0|        France|\n",
      "|540642|22726|ALARM CLOCK BAKEL...|  8|2011-01-10 13:22:00| 3.75|12681.0|        France|\n",
      "|540642|22727|ALARM CLOCK BAKEL...|  8|2011-01-10 13:22:00| 3.75|12681.0|        France|\n",
      "|540642|22728|ALARM CLOCK BAKEL...|  8|2011-01-10 13:22:00| 3.75|12681.0|        France|\n",
      "|540642|22729|ALARM CLOCK BAKEL...|  8|2011-01-10 13:22:00| 3.75|12681.0|        France|\n",
      "|540642|22730|ALARM CLOCK BAKEL...|  8|2011-01-10 13:22:00| 3.75|12681.0|        France|\n",
      "|540642|22781|GUMBALL MAGAZINE ...|  6|2011-01-10 13:22:00| 7.65|12681.0|        France|\n",
      "|540646|22720|SET OF 3 CAKE TIN...|  1|2011-01-10 14:32:00|11.02|   null|United Kingdom|\n",
      "|540646|22730|ALARM CLOCK BAKEL...|  1|2011-01-10 14:32:00| 7.62|   null|United Kingdom|\n",
      "|540646|22778|  GLASS CLOCHE SMALL|  1|2011-01-10 14:32:00| 8.47|   null|United Kingdom|\n",
      "+------+-----+--------------------+---+-------------------+-----+-------+--------------+\n",
      "only showing top 20 rows\n",
      "\n"
     ]
    }
   ],
   "source": [
    "# Filter the dataframe and store the results in df2_phuong\n",
    "df2_phuong = df_phuong.filter(\n",
    "    (df_phuong[\"_c1\"].startswith(\"227\")) &\n",
    "    ((df_phuong[\"_c2\"].contains(\"ALARM CLOCK\")) | (df_phuong[\"_c5\"] > 5))\n",
    ")\n",
    "\n",
    "df2_phuong.show()"
   ]
  },
  {
   "cell_type": "code",
   "execution_count": 7,
   "metadata": {},
   "outputs": [
    {
     "name": "stdout",
     "output_type": "stream",
     "text": [
      "+--------------+----------------+----------------+\n",
      "|Total_Quantity|Minimum_Quantity|Maximum_Quantity|\n",
      "+--------------+----------------+----------------+\n",
      "|         184.0|               1|               8|\n",
      "+--------------+----------------+----------------+\n",
      "\n"
     ]
    }
   ],
   "source": [
    "from pyspark.sql import functions as F\n",
    "\n",
    "summary_stats = df2_phuong.agg(\n",
    "    F.sum(\"_c3\").alias(\"Total_Quantity\"),\n",
    "    F.min(\"_c3\").alias(\"Minimum_Quantity\"),\n",
    "    F.max(\"_c3\").alias(\"Maximum_Quantity\")\n",
    ")\n",
    "\n",
    "summary_stats.show()"
   ]
  },
  {
   "cell_type": "code",
   "execution_count": 8,
   "metadata": {},
   "outputs": [
    {
     "name": "stdout",
     "output_type": "stream",
     "text": [
      "+------+-----+--------------------+---+-------------------+----+-------+------+\n",
      "|   _c0|  _c1|                 _c2|_c3|                _c4| _c5|    _c6|   _c7|\n",
      "+------+-----+--------------------+---+-------------------+----+-------+------+\n",
      "|540550|22785|SQUARECUSHION COV...|  2|2011-01-10 09:11:00|6.75|12539.0| Spain|\n",
      "|540556|22781|GUMBALL MAGAZINE ...|  4|2011-01-10 09:58:00|7.65|   null|Israel|\n",
      "|540642|22725|ALARM CLOCK BAKEL...|  8|2011-01-10 13:22:00|3.75|12681.0|France|\n",
      "|540642|22726|ALARM CLOCK BAKEL...|  8|2011-01-10 13:22:00|3.75|12681.0|France|\n",
      "|540642|22727|ALARM CLOCK BAKEL...|  8|2011-01-10 13:22:00|3.75|12681.0|France|\n",
      "|540642|22728|ALARM CLOCK BAKEL...|  8|2011-01-10 13:22:00|3.75|12681.0|France|\n",
      "|540642|22729|ALARM CLOCK BAKEL...|  8|2011-01-10 13:22:00|3.75|12681.0|France|\n",
      "|540642|22730|ALARM CLOCK BAKEL...|  8|2011-01-10 13:22:00|3.75|12681.0|France|\n",
      "|540642|22781|GUMBALL MAGAZINE ...|  6|2011-01-10 13:22:00|7.65|12681.0|France|\n",
      "+------+-----+--------------------+---+-------------------+----+-------+------+\n",
      "\n"
     ]
    }
   ],
   "source": [
    "outside_uk = df2_phuong.filter(F.col(\"_c7\") != \"United Kingdom\")\n",
    "\n",
    "outside_uk.show()"
   ]
  }
 ],
 "metadata": {
  "kernelspec": {
   "display_name": "Python 3 (ipykernel)",
   "language": "python",
   "name": "python3"
  },
  "language_info": {
   "codemirror_mode": {
    "name": "ipython",
    "version": 3
   },
   "file_extension": ".py",
   "mimetype": "text/x-python",
   "name": "python",
   "nbconvert_exporter": "python",
   "pygments_lexer": "ipython3",
   "version": "3.11.4"
  }
 },
 "nbformat": 4,
 "nbformat_minor": 4
}
